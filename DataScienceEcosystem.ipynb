{
 "cells": [
  {
   "cell_type": "markdown",
   "id": "49451e37-efde-4b99-a0d6-05dcb2d8063f",
   "metadata": {},
   "source": [
    "# Data Science Tools and Ecosystem"
   ]
  },
  {
   "cell_type": "markdown",
   "id": "3664869a-2b30-45ca-9893-36f5c8eec96a",
   "metadata": {},
   "source": [
    "In this notebook, Data Science Tools and Ecosystem are summarized."
   ]
  },
  {
   "cell_type": "markdown",
   "id": "6e7e1ed4-78a5-4c2a-a976-6da66d1a0629",
   "metadata": {},
   "source": [
    "**Objectives:**\n",
    "\n",
    "* List popular languages for Data Science\n",
    "* commonly used libraries used by Data Scientists\n",
    "* simple arithmetic expression to mutiply then add integers"
   ]
  },
  {
   "cell_type": "markdown",
   "id": "d9308a29-c272-4bc8-a4d5-b40cb12d753c",
   "metadata": {},
   "source": [
    "Some of the popular languages that Data Scientists use are:\n",
    "* Python\n",
    "* R\n",
    "* SQL"
   ]
  },
  {
   "cell_type": "markdown",
   "id": "796ef5e0-e747-4ba2-be7f-a899d25205ef",
   "metadata": {},
   "source": [
    "Some of the commonly used libraries used by Data Scientists include:\n",
    "1. Matplotlib\n",
    "2. GGplot\n",
    "3. Seaborn\n",
    "4. Numpy"
   ]
  },
  {
   "cell_type": "markdown",
   "id": "4673836c-5e3d-4da3-9e1d-8b8c26f4389e",
   "metadata": {},
   "source": [
    "| Data Science Tools |\n",
    "| --- |\n",
    "| Rstudio |\n",
    "| Jupyter |\n",
    "| PowerBI |\n",
    "\n"
   ]
  },
  {
   "cell_type": "markdown",
   "id": "e27c0b10-9b9c-4252-b363-09978bb74d35",
   "metadata": {},
   "source": [
    "### Below are a few examples of evaluating arithmetic expressions in Python\n",
    "\n",
    "Addition:\n",
    "3 + 5\n",
    "Output: 8\n",
    "\n",
    "Subtraction:\n",
    "10 - 4\n",
    "Output: 6\n",
    "\n",
    "Multiplication:\n",
    "7 * 6\n",
    "Output: 42\n",
    "\n",
    "Division:\n",
    "16 / 4\n",
    "Output: 4.0"
   ]
  },
  {
   "cell_type": "code",
   "execution_count": 2,
   "id": "346b09fe-993a-4c79-930a-cb962b050935",
   "metadata": {},
   "outputs": [
    {
     "data": {
      "text/plain": [
       "17"
      ]
     },
     "execution_count": 2,
     "metadata": {},
     "output_type": "execute_result"
    }
   ],
   "source": [
    "#This a simple arithmetic expression to mutiply then add integers\n",
    "(3*4)+5"
   ]
  },
  {
   "cell_type": "code",
   "execution_count": 3,
   "id": "5ef41a2f-bb72-409e-beeb-f47eed4235de",
   "metadata": {},
   "outputs": [
    {
     "data": {
      "text/plain": [
       "3.3333333333333335"
      ]
     },
     "execution_count": 3,
     "metadata": {},
     "output_type": "execute_result"
    }
   ],
   "source": [
    "#This will convert 200 minutes to hours by diving by 60\n",
    "\n",
    "200 / 60"
   ]
  },
  {
   "cell_type": "markdown",
   "id": "aeedade5-4f6a-4d16-b550-e540edaa24ca",
   "metadata": {},
   "source": [
    "## Author\n",
    "*Atharva Digamber Katurde*"
   ]
  },
  {
   "cell_type": "code",
   "execution_count": null,
   "id": "e6c1c313-abfe-4193-b0de-fb440f0c09a3",
   "metadata": {},
   "outputs": [],
   "source": []
  }
 ],
 "metadata": {
  "kernelspec": {
   "display_name": "Python 3 (ipykernel)",
   "language": "python",
   "name": "python3"
  },
  "language_info": {
   "codemirror_mode": {
    "name": "ipython",
    "version": 3
   },
   "file_extension": ".py",
   "mimetype": "text/x-python",
   "name": "python",
   "nbconvert_exporter": "python",
   "pygments_lexer": "ipython3",
   "version": "3.12.4"
  }
 },
 "nbformat": 4,
 "nbformat_minor": 5
}
